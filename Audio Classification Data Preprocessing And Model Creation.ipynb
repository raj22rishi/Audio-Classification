{
 "cells": [
  {
   "cell_type": "markdown",
   "id": "cardiovascular-study",
   "metadata": {},
   "source": [
    "#### Audio Classification Data Preprocessing"
   ]
  },
  {
   "cell_type": "code",
   "execution_count": 2,
   "id": "boxed-central",
   "metadata": {},
   "outputs": [],
   "source": [
    "### Let's read a sample audio using librosa\n",
    "import librosa\n"
   ]
  },
  {
   "cell_type": "code",
   "execution_count": 69,
   "id": "variable-airline",
   "metadata": {},
   "outputs": [
    {
     "name": "stdout",
     "output_type": "stream",
     "text": [
      "[ 0.00330576  0.00468387  0.00360455 ... -0.0037562  -0.00348641\n",
      " -0.00356705]\n"
     ]
    }
   ],
   "source": [
    "print(librosa_audio_data)"
   ]
  },
  {
   "cell_type": "code",
   "execution_count": 3,
   "id": "swedish-minute",
   "metadata": {},
   "outputs": [],
   "source": [
    "### Lets plot the librosa audio data\n",
    "import matplotlib.pyplot as plt\n",
    "# Original audio with 1 channel \n"
   ]
  },
  {
   "cell_type": "markdown",
   "id": "comparative-ontario",
   "metadata": {},
   "source": [
    "#### Observation\n",
    "Here Librosa converts the signal to mono, meaning the channel will alays be 1"
   ]
  },
  {
   "cell_type": "code",
   "execution_count": 4,
   "id": "norman-producer",
   "metadata": {},
   "outputs": [],
   "source": [
    "### Lets read with scipy\n",
    "from scipy.io import wavfile as wav\n"
   ]
  },
  {
   "cell_type": "code",
   "execution_count": 72,
   "id": "acting-functionality",
   "metadata": {},
   "outputs": [
    {
     "data": {
      "text/plain": [
       "array([[ 194,  100],\n",
       "       [ 179,  113],\n",
       "       [ 160,  124],\n",
       "       ...,\n",
       "       [-143,  -87],\n",
       "       [-134,  -91],\n",
       "       [-110,  -98]], dtype=int16)"
      ]
     },
     "execution_count": 72,
     "metadata": {},
     "output_type": "execute_result"
    }
   ],
   "source": [
    "wave_audio"
   ]
  },
  {
   "cell_type": "code",
   "execution_count": 5,
   "id": "pressing-college",
   "metadata": {},
   "outputs": [],
   "source": [
    "import matplotlib.pyplot as plt\n",
    "\n"
   ]
  },
  {
   "cell_type": "markdown",
   "id": "applicable-priest",
   "metadata": {},
   "source": [
    "### Extract Features\n",
    "Here we will be using Mel-Frequency Cepstral Coefficients(MFCC) from the audio \n",
    "samples.\n",
    "The MFCC summarises the frequency distribution across the window size, so it is possible to analyse both the frequency and time characteristics of the sound. These audio representations will allow us to identify features for classification."
   ]
  },
  {
   "cell_type": "code",
   "execution_count": null,
   "id": "chinese-north",
   "metadata": {},
   "outputs": [],
   "source": []
  },
  {
   "cell_type": "code",
   "execution_count": 75,
   "id": "sporting-freeware",
   "metadata": {},
   "outputs": [
    {
     "data": {
      "text/plain": [
       "array([[-4.45197296e+02, -4.47219299e+02, -4.49755127e+02, ...,\n",
       "        -4.77412781e+02, -4.74241730e+02, -4.82704987e+02],\n",
       "       [ 1.12513969e+02,  1.11970383e+02,  1.12244164e+02, ...,\n",
       "         1.12045395e+02,  1.12248581e+02,  1.05560913e+02],\n",
       "       [-1.58260956e+01, -2.30021858e+01, -3.12500191e+01, ...,\n",
       "        -9.15441895e+00, -1.03232269e+01, -7.39410734e+00],\n",
       "       ...,\n",
       "       [-7.82766485e+00, -5.03880405e+00, -4.48165369e+00, ...,\n",
       "        -1.90692782e-01,  4.34143972e+00,  1.00339069e+01],\n",
       "       [-1.91763425e+00, -8.02737713e-01, -1.20930457e+00, ...,\n",
       "        -1.23640239e-01,  2.90504694e-02,  9.22017097e-01],\n",
       "       [-3.88130605e-01,  3.09317827e-01,  6.72155714e+00, ...,\n",
       "        -2.33736587e+00, -4.25179911e+00, -2.31322765e+00]], dtype=float32)"
      ]
     },
     "execution_count": 75,
     "metadata": {},
     "output_type": "execute_result"
    }
   ],
   "source": [
    "mfccs"
   ]
  },
  {
   "cell_type": "code",
   "execution_count": 7,
   "id": "liberal-journalist",
   "metadata": {},
   "outputs": [
    {
     "data": {
      "text/html": [
       "<div>\n",
       "<style scoped>\n",
       "    .dataframe tbody tr th:only-of-type {\n",
       "        vertical-align: middle;\n",
       "    }\n",
       "\n",
       "    .dataframe tbody tr th {\n",
       "        vertical-align: top;\n",
       "    }\n",
       "\n",
       "    .dataframe thead th {\n",
       "        text-align: right;\n",
       "    }\n",
       "</style>\n",
       "<table border=\"1\" class=\"dataframe\">\n",
       "  <thead>\n",
       "    <tr style=\"text-align: right;\">\n",
       "      <th></th>\n",
       "      <th>slice_file_name</th>\n",
       "      <th>fsID</th>\n",
       "      <th>start</th>\n",
       "      <th>end</th>\n",
       "      <th>salience</th>\n",
       "      <th>fold</th>\n",
       "      <th>classID</th>\n",
       "      <th>class</th>\n",
       "    </tr>\n",
       "  </thead>\n",
       "  <tbody>\n",
       "    <tr>\n",
       "      <th>0</th>\n",
       "      <td>100032-3-0-0.wav</td>\n",
       "      <td>100032</td>\n",
       "      <td>0.0</td>\n",
       "      <td>0.317551</td>\n",
       "      <td>1</td>\n",
       "      <td>5</td>\n",
       "      <td>3</td>\n",
       "      <td>dog_bark</td>\n",
       "    </tr>\n",
       "    <tr>\n",
       "      <th>1</th>\n",
       "      <td>100263-2-0-117.wav</td>\n",
       "      <td>100263</td>\n",
       "      <td>58.5</td>\n",
       "      <td>62.500000</td>\n",
       "      <td>1</td>\n",
       "      <td>5</td>\n",
       "      <td>2</td>\n",
       "      <td>children_playing</td>\n",
       "    </tr>\n",
       "    <tr>\n",
       "      <th>2</th>\n",
       "      <td>100263-2-0-121.wav</td>\n",
       "      <td>100263</td>\n",
       "      <td>60.5</td>\n",
       "      <td>64.500000</td>\n",
       "      <td>1</td>\n",
       "      <td>5</td>\n",
       "      <td>2</td>\n",
       "      <td>children_playing</td>\n",
       "    </tr>\n",
       "    <tr>\n",
       "      <th>3</th>\n",
       "      <td>100263-2-0-126.wav</td>\n",
       "      <td>100263</td>\n",
       "      <td>63.0</td>\n",
       "      <td>67.000000</td>\n",
       "      <td>1</td>\n",
       "      <td>5</td>\n",
       "      <td>2</td>\n",
       "      <td>children_playing</td>\n",
       "    </tr>\n",
       "    <tr>\n",
       "      <th>4</th>\n",
       "      <td>100263-2-0-137.wav</td>\n",
       "      <td>100263</td>\n",
       "      <td>68.5</td>\n",
       "      <td>72.500000</td>\n",
       "      <td>1</td>\n",
       "      <td>5</td>\n",
       "      <td>2</td>\n",
       "      <td>children_playing</td>\n",
       "    </tr>\n",
       "  </tbody>\n",
       "</table>\n",
       "</div>"
      ],
      "text/plain": [
       "      slice_file_name    fsID  start        end  salience  fold  classID  \\\n",
       "0    100032-3-0-0.wav  100032    0.0   0.317551         1     5        3   \n",
       "1  100263-2-0-117.wav  100263   58.5  62.500000         1     5        2   \n",
       "2  100263-2-0-121.wav  100263   60.5  64.500000         1     5        2   \n",
       "3  100263-2-0-126.wav  100263   63.0  67.000000         1     5        2   \n",
       "4  100263-2-0-137.wav  100263   68.5  72.500000         1     5        2   \n",
       "\n",
       "              class  \n",
       "0          dog_bark  \n",
       "1  children_playing  \n",
       "2  children_playing  \n",
       "3  children_playing  \n",
       "4  children_playing  "
      ]
     },
     "execution_count": 7,
     "metadata": {},
     "output_type": "execute_result"
    }
   ],
   "source": [
    "#### Extracting MFCC's For every audio file\n",
    "import pandas as pd\n",
    "import os\n",
    "import librosa\n",
    "\n",
    "audio_dataset_path='UrbanSound8K/audio/'\n",
    "metadata=pd.read_csv('UrbanSound8K/metadata/UrbanSound8K.csv')\n",
    "metadata.head()"
   ]
  },
  {
   "cell_type": "code",
   "execution_count": 8,
   "id": "chinese-calendar",
   "metadata": {},
   "outputs": [],
   "source": [
    "def features_extractor(file):\n",
    "    audio, sample_rate = librosa.load(file_name, res_type='kaiser_fast') \n",
    "    mfccs_features = librosa.feature.mfcc(y=audio, sr=sample_rate, n_mfcc=40)\n",
    "    mfccs_scaled_features = np.mean(mfccs_features.T,axis=0)\n",
    "    \n",
    "    return mfccs_scaled_features\n",
    "    "
   ]
  },
  {
   "cell_type": "code",
   "execution_count": 9,
   "id": "nuclear-sponsorship",
   "metadata": {},
   "outputs": [
    {
     "name": "stderr",
     "output_type": "stream",
     "text": [
      "3555it [02:50, 21.10it/s]/Users/rishiraj/anaconda3/lib/python3.11/site-packages/librosa/core/spectrum.py:257: UserWarning: n_fft=2048 is too large for input signal of length=1323\n",
      "  warnings.warn(\n",
      "8324it [06:36, 26.22it/s]/Users/rishiraj/anaconda3/lib/python3.11/site-packages/librosa/core/spectrum.py:257: UserWarning: n_fft=2048 is too large for input signal of length=1103\n",
      "  warnings.warn(\n",
      "/Users/rishiraj/anaconda3/lib/python3.11/site-packages/librosa/core/spectrum.py:257: UserWarning: n_fft=2048 is too large for input signal of length=1523\n",
      "  warnings.warn(\n",
      "8732it [06:54, 21.08it/s]\n"
     ]
    }
   ],
   "source": [
    "import numpy as np\n",
    "from tqdm import tqdm\n",
    "\n",
    "extracted_features=[]\n",
    "for index_num,row in tqdm(metadata.iterrows()):\n",
    "    file_name = os.path.join(os.path.abspath(audio_dataset_path),'fold'+str(row[\"fold\"])+'/',str(row[\"slice_file_name\"]))\n",
    "    final_class_labels=row[\"class\"]\n",
    "    data=features_extractor(file_name)\n",
    "    extracted_features.append([data,final_class_labels])"
   ]
  },
  {
   "cell_type": "code",
   "execution_count": null,
   "id": "6fea77ba",
   "metadata": {},
   "outputs": [],
   "source": []
  },
  {
   "cell_type": "code",
   "execution_count": 10,
   "id": "acoustic-wagner",
   "metadata": {},
   "outputs": [
    {
     "data": {
      "text/html": [
       "<div>\n",
       "<style scoped>\n",
       "    .dataframe tbody tr th:only-of-type {\n",
       "        vertical-align: middle;\n",
       "    }\n",
       "\n",
       "    .dataframe tbody tr th {\n",
       "        vertical-align: top;\n",
       "    }\n",
       "\n",
       "    .dataframe thead th {\n",
       "        text-align: right;\n",
       "    }\n",
       "</style>\n",
       "<table border=\"1\" class=\"dataframe\">\n",
       "  <thead>\n",
       "    <tr style=\"text-align: right;\">\n",
       "      <th></th>\n",
       "      <th>feature</th>\n",
       "      <th>class</th>\n",
       "    </tr>\n",
       "  </thead>\n",
       "  <tbody>\n",
       "    <tr>\n",
       "      <th>0</th>\n",
       "      <td>[-217.35526, 70.22339, -130.38527, -53.282898,...</td>\n",
       "      <td>dog_bark</td>\n",
       "    </tr>\n",
       "    <tr>\n",
       "      <th>1</th>\n",
       "      <td>[-424.09818, 109.34077, -52.919525, 60.86475, ...</td>\n",
       "      <td>children_playing</td>\n",
       "    </tr>\n",
       "    <tr>\n",
       "      <th>2</th>\n",
       "      <td>[-458.79114, 121.38419, -46.520657, 52.00812, ...</td>\n",
       "      <td>children_playing</td>\n",
       "    </tr>\n",
       "    <tr>\n",
       "      <th>3</th>\n",
       "      <td>[-413.89984, 101.66371, -35.42945, 53.036358, ...</td>\n",
       "      <td>children_playing</td>\n",
       "    </tr>\n",
       "    <tr>\n",
       "      <th>4</th>\n",
       "      <td>[-446.60352, 113.68541, -52.402218, 60.302044,...</td>\n",
       "      <td>children_playing</td>\n",
       "    </tr>\n",
       "  </tbody>\n",
       "</table>\n",
       "</div>"
      ],
      "text/plain": [
       "                                             feature             class\n",
       "0  [-217.35526, 70.22339, -130.38527, -53.282898,...          dog_bark\n",
       "1  [-424.09818, 109.34077, -52.919525, 60.86475, ...  children_playing\n",
       "2  [-458.79114, 121.38419, -46.520657, 52.00812, ...  children_playing\n",
       "3  [-413.89984, 101.66371, -35.42945, 53.036358, ...  children_playing\n",
       "4  [-446.60352, 113.68541, -52.402218, 60.302044,...  children_playing"
      ]
     },
     "execution_count": 10,
     "metadata": {},
     "output_type": "execute_result"
    }
   ],
   "source": [
    "### converting extracted_features to Pandas dataframe\n",
    "extracted_features_df=pd.DataFrame(extracted_features,columns=['feature','class'])\n",
    "extracted_features_df.head()"
   ]
  },
  {
   "cell_type": "code",
   "execution_count": 11,
   "id": "characteristic-sudan",
   "metadata": {},
   "outputs": [],
   "source": [
    "### Split the dataset into independent and dependent dataset\n",
    "X=np.array(extracted_features_df['feature'].tolist())\n",
    "y=np.array(extracted_features_df['class'].tolist())"
   ]
  },
  {
   "cell_type": "code",
   "execution_count": 12,
   "id": "friendly-placement",
   "metadata": {},
   "outputs": [
    {
     "data": {
      "text/plain": [
       "(8732, 40)"
      ]
     },
     "execution_count": 12,
     "metadata": {},
     "output_type": "execute_result"
    }
   ],
   "source": [
    "X.shape"
   ]
  },
  {
   "cell_type": "code",
   "execution_count": 13,
   "id": "japanese-cheese",
   "metadata": {},
   "outputs": [
    {
     "data": {
      "text/plain": [
       "array(['dog_bark', 'children_playing', 'children_playing', ...,\n",
       "       'car_horn', 'car_horn', 'car_horn'], dtype='<U16')"
      ]
     },
     "execution_count": 13,
     "metadata": {},
     "output_type": "execute_result"
    }
   ],
   "source": [
    "y"
   ]
  },
  {
   "cell_type": "code",
   "execution_count": 14,
   "id": "wired-church",
   "metadata": {},
   "outputs": [],
   "source": [
    "### Label Encoding\n",
    "###y=np.array(pd.get_dummies(y))\n",
    "### Label Encoder\n",
    "from tensorflow.keras.utils import to_categorical\n",
    "from sklearn.preprocessing import LabelEncoder\n",
    "labelencoder=LabelEncoder()\n",
    "y=to_categorical(labelencoder.fit_transform(y))"
   ]
  },
  {
   "cell_type": "code",
   "execution_count": 15,
   "id": "sitting-anniversary",
   "metadata": {},
   "outputs": [
    {
     "data": {
      "text/plain": [
       "array([[0., 0., 0., ..., 0., 0., 0.],\n",
       "       [0., 0., 1., ..., 0., 0., 0.],\n",
       "       [0., 0., 1., ..., 0., 0., 0.],\n",
       "       ...,\n",
       "       [0., 1., 0., ..., 0., 0., 0.],\n",
       "       [0., 1., 0., ..., 0., 0., 0.],\n",
       "       [0., 1., 0., ..., 0., 0., 0.]], dtype=float32)"
      ]
     },
     "execution_count": 15,
     "metadata": {},
     "output_type": "execute_result"
    }
   ],
   "source": [
    "y"
   ]
  },
  {
   "cell_type": "code",
   "execution_count": 16,
   "id": "documentary-priority",
   "metadata": {},
   "outputs": [],
   "source": [
    "### Train Test Split\n",
    "from sklearn.model_selection import train_test_split\n",
    "X_train,X_test,y_train,y_test=train_test_split(X,y,test_size=0.2,random_state=0)"
   ]
  },
  {
   "cell_type": "code",
   "execution_count": 17,
   "id": "analyzed-payday",
   "metadata": {},
   "outputs": [
    {
     "data": {
      "text/plain": [
       "array([[-1.31104706e+02,  1.12505905e+02, -2.25746956e+01, ...,\n",
       "         3.24665213e+00, -1.36902368e+00,  2.75575471e+00],\n",
       "       [-1.36703424e+01,  9.10850830e+01, -7.79273319e+00, ...,\n",
       "        -3.25305033e+00, -5.27745295e+00, -1.55697155e+00],\n",
       "       [-4.98715439e+01,  2.65352994e-01, -2.05009365e+01, ...,\n",
       "         2.85459447e+00, -1.60920441e+00,  3.52480578e+00],\n",
       "       ...,\n",
       "       [-4.27012360e+02,  9.26230469e+01,  3.12939739e+00, ...,\n",
       "         7.42641211e-01,  7.33490884e-01,  7.11009264e-01],\n",
       "       [-1.45754608e+02,  1.36265778e+02, -3.35155182e+01, ...,\n",
       "         1.46811938e+00, -2.00917006e+00, -8.82181883e-01],\n",
       "       [-4.21031342e+02,  2.10654541e+02,  3.49066091e+00, ...,\n",
       "        -5.38886738e+00, -3.37136054e+00, -1.56651139e+00]], dtype=float32)"
      ]
     },
     "execution_count": 17,
     "metadata": {},
     "output_type": "execute_result"
    }
   ],
   "source": [
    "X_train"
   ]
  },
  {
   "cell_type": "code",
   "execution_count": 18,
   "id": "female-study",
   "metadata": {},
   "outputs": [
    {
     "data": {
      "text/plain": [
       "array([[0., 0., 0., ..., 0., 0., 0.],\n",
       "       [0., 0., 1., ..., 0., 0., 0.],\n",
       "       [0., 0., 1., ..., 0., 0., 0.],\n",
       "       ...,\n",
       "       [0., 1., 0., ..., 0., 0., 0.],\n",
       "       [0., 1., 0., ..., 0., 0., 0.],\n",
       "       [0., 1., 0., ..., 0., 0., 0.]], dtype=float32)"
      ]
     },
     "execution_count": 18,
     "metadata": {},
     "output_type": "execute_result"
    }
   ],
   "source": [
    "y"
   ]
  },
  {
   "cell_type": "code",
   "execution_count": 19,
   "id": "flexible-lithuania",
   "metadata": {},
   "outputs": [
    {
     "data": {
      "text/plain": [
       "(6985, 40)"
      ]
     },
     "execution_count": 19,
     "metadata": {},
     "output_type": "execute_result"
    }
   ],
   "source": [
    "X_train.shape"
   ]
  },
  {
   "cell_type": "code",
   "execution_count": 20,
   "id": "instrumental-equity",
   "metadata": {},
   "outputs": [
    {
     "data": {
      "text/plain": [
       "(1747, 40)"
      ]
     },
     "execution_count": 20,
     "metadata": {},
     "output_type": "execute_result"
    }
   ],
   "source": [
    "X_test.shape"
   ]
  },
  {
   "cell_type": "code",
   "execution_count": 21,
   "id": "chemical-vermont",
   "metadata": {},
   "outputs": [
    {
     "data": {
      "text/plain": [
       "(6985, 10)"
      ]
     },
     "execution_count": 21,
     "metadata": {},
     "output_type": "execute_result"
    }
   ],
   "source": [
    "y_train.shape"
   ]
  },
  {
   "cell_type": "code",
   "execution_count": 22,
   "id": "governing-natural",
   "metadata": {},
   "outputs": [
    {
     "data": {
      "text/plain": [
       "(1747, 10)"
      ]
     },
     "execution_count": 22,
     "metadata": {},
     "output_type": "execute_result"
    }
   ],
   "source": [
    "y_test.shape"
   ]
  },
  {
   "cell_type": "markdown",
   "id": "express-vessel",
   "metadata": {},
   "source": [
    "### Model Creation"
   ]
  },
  {
   "cell_type": "code",
   "execution_count": 23,
   "id": "loose-portugal",
   "metadata": {},
   "outputs": [
    {
     "name": "stdout",
     "output_type": "stream",
     "text": [
      "2.15.0\n"
     ]
    }
   ],
   "source": [
    "import tensorflow as tf\n",
    "print(tf.__version__)"
   ]
  },
  {
   "cell_type": "code",
   "execution_count": 24,
   "id": "indonesian-accessory",
   "metadata": {},
   "outputs": [],
   "source": [
    "from tensorflow.keras.models import Sequential\n",
    "from tensorflow.keras.layers import Dense,Dropout,Activation,Flatten\n",
    "from tensorflow.keras.optimizers import Adam\n",
    "from sklearn import metrics"
   ]
  },
  {
   "cell_type": "code",
   "execution_count": 25,
   "id": "valuable-substitute",
   "metadata": {},
   "outputs": [],
   "source": [
    "### No of classes\n",
    "num_labels=y.shape[1]"
   ]
  },
  {
   "cell_type": "code",
   "execution_count": null,
   "id": "choice-contract",
   "metadata": {},
   "outputs": [],
   "source": []
  },
  {
   "cell_type": "code",
   "execution_count": 47,
   "id": "bf3bdab8",
   "metadata": {},
   "outputs": [
    {
     "name": "stdout",
     "output_type": "stream",
     "text": [
      "Trial 5 Complete [00h 00m 15s]\n",
      "val_accuracy: 0.8277046084403992\n",
      "\n",
      "Best val_accuracy So Far: 0.8414424657821655\n",
      "Total elapsed time: 00h 06m 40s\n",
      "Best hyperparameters: <keras_tuner.src.engine.hyperparameters.hyperparameters.HyperParameters object at 0x291067250>\n",
      "Epoch 1/100\n",
      "219/219 [==============================] - 1s 2ms/step - loss: 1.9185 - accuracy: 0.3042 - val_loss: 1.5669 - val_accuracy: 0.4774\n",
      "Epoch 2/100\n",
      "219/219 [==============================] - 0s 2ms/step - loss: 1.5094 - accuracy: 0.4786 - val_loss: 1.3955 - val_accuracy: 0.4997\n",
      "Epoch 3/100\n",
      "219/219 [==============================] - 0s 1ms/step - loss: 1.3630 - accuracy: 0.5376 - val_loss: 1.1929 - val_accuracy: 0.6090\n",
      "Epoch 4/100\n",
      "219/219 [==============================] - 0s 1ms/step - loss: 1.2639 - accuracy: 0.5702 - val_loss: 1.0957 - val_accuracy: 0.6302\n",
      "Epoch 5/100\n",
      "219/219 [==============================] - 0s 2ms/step - loss: 1.1905 - accuracy: 0.5963 - val_loss: 1.0369 - val_accuracy: 0.6835\n",
      "Epoch 6/100\n",
      "219/219 [==============================] - 0s 1ms/step - loss: 1.1381 - accuracy: 0.6195 - val_loss: 0.9644 - val_accuracy: 0.6909\n",
      "Epoch 7/100\n",
      "219/219 [==============================] - 0s 2ms/step - loss: 1.0816 - accuracy: 0.6428 - val_loss: 0.8916 - val_accuracy: 0.7195\n",
      "Epoch 8/100\n",
      "219/219 [==============================] - 0s 2ms/step - loss: 1.0469 - accuracy: 0.6535 - val_loss: 0.8759 - val_accuracy: 0.7287\n",
      "Epoch 9/100\n",
      "219/219 [==============================] - 0s 1ms/step - loss: 0.9931 - accuracy: 0.6754 - val_loss: 0.8317 - val_accuracy: 0.7367\n",
      "Epoch 10/100\n",
      "219/219 [==============================] - 0s 2ms/step - loss: 0.9702 - accuracy: 0.6742 - val_loss: 0.8164 - val_accuracy: 0.7493\n",
      "Epoch 11/100\n",
      "219/219 [==============================] - 0s 2ms/step - loss: 0.9425 - accuracy: 0.6922 - val_loss: 0.8256 - val_accuracy: 0.7373\n",
      "Epoch 12/100\n",
      "219/219 [==============================] - 0s 1ms/step - loss: 0.9097 - accuracy: 0.7016 - val_loss: 0.7710 - val_accuracy: 0.7567\n",
      "Epoch 13/100\n",
      "219/219 [==============================] - 0s 1ms/step - loss: 0.8945 - accuracy: 0.7069 - val_loss: 0.7425 - val_accuracy: 0.7642\n",
      "Epoch 14/100\n",
      "219/219 [==============================] - 0s 2ms/step - loss: 0.8680 - accuracy: 0.7191 - val_loss: 0.7339 - val_accuracy: 0.7773\n",
      "Epoch 15/100\n",
      "219/219 [==============================] - 0s 1ms/step - loss: 0.8476 - accuracy: 0.7208 - val_loss: 0.7142 - val_accuracy: 0.7756\n",
      "Epoch 16/100\n",
      "219/219 [==============================] - 0s 1ms/step - loss: 0.8215 - accuracy: 0.7248 - val_loss: 0.7297 - val_accuracy: 0.7745\n",
      "Epoch 17/100\n",
      "219/219 [==============================] - 0s 2ms/step - loss: 0.8240 - accuracy: 0.7261 - val_loss: 0.6647 - val_accuracy: 0.7916\n",
      "Epoch 18/100\n",
      "219/219 [==============================] - 0s 2ms/step - loss: 0.7918 - accuracy: 0.7394 - val_loss: 0.6491 - val_accuracy: 0.8048\n",
      "Epoch 19/100\n",
      "219/219 [==============================] - 0s 1ms/step - loss: 0.7760 - accuracy: 0.7466 - val_loss: 0.6592 - val_accuracy: 0.7905\n",
      "Epoch 20/100\n",
      "219/219 [==============================] - 0s 1ms/step - loss: 0.7502 - accuracy: 0.7522 - val_loss: 0.6588 - val_accuracy: 0.7876\n",
      "Epoch 21/100\n",
      "219/219 [==============================] - 0s 1ms/step - loss: 0.7418 - accuracy: 0.7578 - val_loss: 0.6220 - val_accuracy: 0.8019\n",
      "Epoch 22/100\n",
      "219/219 [==============================] - 0s 2ms/step - loss: 0.7367 - accuracy: 0.7573 - val_loss: 0.6225 - val_accuracy: 0.8077\n",
      "Epoch 23/100\n",
      "219/219 [==============================] - 0s 2ms/step - loss: 0.7262 - accuracy: 0.7623 - val_loss: 0.6192 - val_accuracy: 0.8025\n",
      "Epoch 24/100\n",
      "219/219 [==============================] - 0s 1ms/step - loss: 0.6927 - accuracy: 0.7714 - val_loss: 0.5976 - val_accuracy: 0.8105\n",
      "Epoch 25/100\n",
      "219/219 [==============================] - 0s 1ms/step - loss: 0.7018 - accuracy: 0.7709 - val_loss: 0.5889 - val_accuracy: 0.8180\n",
      "Epoch 26/100\n",
      "219/219 [==============================] - 0s 2ms/step - loss: 0.6915 - accuracy: 0.7745 - val_loss: 0.5862 - val_accuracy: 0.8088\n",
      "Epoch 27/100\n",
      "219/219 [==============================] - 0s 1ms/step - loss: 0.6688 - accuracy: 0.7824 - val_loss: 0.5553 - val_accuracy: 0.8191\n",
      "Epoch 28/100\n",
      "219/219 [==============================] - 0s 2ms/step - loss: 0.6611 - accuracy: 0.7861 - val_loss: 0.5625 - val_accuracy: 0.8122\n",
      "Epoch 29/100\n",
      "219/219 [==============================] - 0s 2ms/step - loss: 0.6549 - accuracy: 0.7877 - val_loss: 0.5557 - val_accuracy: 0.8214\n",
      "Epoch 30/100\n",
      "219/219 [==============================] - 0s 2ms/step - loss: 0.6312 - accuracy: 0.7930 - val_loss: 0.5462 - val_accuracy: 0.8288\n",
      "Epoch 31/100\n",
      "219/219 [==============================] - 0s 2ms/step - loss: 0.6266 - accuracy: 0.7957 - val_loss: 0.5353 - val_accuracy: 0.8203\n",
      "Epoch 32/100\n",
      "219/219 [==============================] - 0s 2ms/step - loss: 0.6232 - accuracy: 0.7970 - val_loss: 0.5372 - val_accuracy: 0.8243\n",
      "Epoch 33/100\n",
      "219/219 [==============================] - 0s 2ms/step - loss: 0.6118 - accuracy: 0.8046 - val_loss: 0.5218 - val_accuracy: 0.8260\n",
      "Epoch 34/100\n",
      "219/219 [==============================] - 0s 2ms/step - loss: 0.5979 - accuracy: 0.8021 - val_loss: 0.5181 - val_accuracy: 0.8329\n",
      "Epoch 35/100\n",
      "219/219 [==============================] - 0s 2ms/step - loss: 0.6068 - accuracy: 0.8009 - val_loss: 0.5213 - val_accuracy: 0.8254\n",
      "Epoch 36/100\n",
      "219/219 [==============================] - 0s 1ms/step - loss: 0.5903 - accuracy: 0.8052 - val_loss: 0.5222 - val_accuracy: 0.8197\n",
      "Epoch 37/100\n",
      "219/219 [==============================] - 0s 2ms/step - loss: 0.5886 - accuracy: 0.8057 - val_loss: 0.4925 - val_accuracy: 0.8403\n",
      "Epoch 38/100\n",
      "219/219 [==============================] - 0s 2ms/step - loss: 0.5761 - accuracy: 0.8083 - val_loss: 0.4996 - val_accuracy: 0.8351\n",
      "Epoch 39/100\n",
      "219/219 [==============================] - 0s 1ms/step - loss: 0.5739 - accuracy: 0.8102 - val_loss: 0.5049 - val_accuracy: 0.8260\n",
      "Epoch 40/100\n",
      "219/219 [==============================] - 0s 1ms/step - loss: 0.5588 - accuracy: 0.8193 - val_loss: 0.4843 - val_accuracy: 0.8403\n",
      "Epoch 41/100\n",
      "219/219 [==============================] - 0s 2ms/step - loss: 0.5558 - accuracy: 0.8188 - val_loss: 0.4812 - val_accuracy: 0.8414\n",
      "Epoch 42/100\n",
      "219/219 [==============================] - 0s 2ms/step - loss: 0.5561 - accuracy: 0.8147 - val_loss: 0.4681 - val_accuracy: 0.8432\n",
      "Epoch 43/100\n",
      "219/219 [==============================] - 0s 2ms/step - loss: 0.5457 - accuracy: 0.8196 - val_loss: 0.4575 - val_accuracy: 0.8454\n",
      "Epoch 44/100\n",
      "219/219 [==============================] - 0s 2ms/step - loss: 0.5372 - accuracy: 0.8216 - val_loss: 0.4843 - val_accuracy: 0.8443\n",
      "Epoch 45/100\n",
      "219/219 [==============================] - 0s 2ms/step - loss: 0.5339 - accuracy: 0.8241 - val_loss: 0.4805 - val_accuracy: 0.8403\n",
      "Epoch 46/100\n",
      "219/219 [==============================] - 0s 2ms/step - loss: 0.5337 - accuracy: 0.8263 - val_loss: 0.4565 - val_accuracy: 0.8529\n",
      "Epoch 47/100\n",
      "219/219 [==============================] - 0s 2ms/step - loss: 0.5166 - accuracy: 0.8295 - val_loss: 0.4588 - val_accuracy: 0.8529\n",
      "Epoch 48/100\n",
      "219/219 [==============================] - 0s 2ms/step - loss: 0.5012 - accuracy: 0.8336 - val_loss: 0.4606 - val_accuracy: 0.8512\n",
      "Epoch 49/100\n",
      "219/219 [==============================] - 0s 2ms/step - loss: 0.5210 - accuracy: 0.8249 - val_loss: 0.4402 - val_accuracy: 0.8517\n",
      "Epoch 50/100\n",
      "219/219 [==============================] - 0s 2ms/step - loss: 0.5035 - accuracy: 0.8295 - val_loss: 0.4472 - val_accuracy: 0.8500\n",
      "Epoch 51/100\n",
      "219/219 [==============================] - 0s 2ms/step - loss: 0.5024 - accuracy: 0.8336 - val_loss: 0.4338 - val_accuracy: 0.8632\n",
      "Epoch 52/100\n",
      "219/219 [==============================] - 0s 2ms/step - loss: 0.5077 - accuracy: 0.8365 - val_loss: 0.4357 - val_accuracy: 0.8586\n",
      "Epoch 53/100\n",
      "219/219 [==============================] - 0s 2ms/step - loss: 0.4957 - accuracy: 0.8326 - val_loss: 0.4256 - val_accuracy: 0.8683\n",
      "Epoch 54/100\n",
      "219/219 [==============================] - 0s 1ms/step - loss: 0.4982 - accuracy: 0.8381 - val_loss: 0.4397 - val_accuracy: 0.8603\n",
      "Epoch 55/100\n",
      "219/219 [==============================] - 0s 1ms/step - loss: 0.4809 - accuracy: 0.8425 - val_loss: 0.4442 - val_accuracy: 0.8632\n",
      "Epoch 56/100\n"
     ]
    },
    {
     "name": "stdout",
     "output_type": "stream",
     "text": [
      "219/219 [==============================] - 0s 1ms/step - loss: 0.4865 - accuracy: 0.8412 - val_loss: 0.4266 - val_accuracy: 0.8632\n"
     ]
    },
    {
     "data": {
      "text/plain": [
       "<keras.src.callbacks.History at 0x293da8e90>"
      ]
     },
     "execution_count": 47,
     "metadata": {},
     "output_type": "execute_result"
    }
   ],
   "source": [
    "import numpy as np\n",
    "import tensorflow as tf\n",
    "from tensorflow.keras.models import Sequential\n",
    "from tensorflow.keras.layers import Dense, Dropout, Activation\n",
    "from tensorflow.keras.callbacks import EarlyStopping\n",
    "from kerastuner.tuners import RandomSearch\n",
    "\n",
    "# Assuming X_train, X_test, y_train, y_test are properly formatted\n",
    "\n",
    "def build_model(hp):\n",
    "    model = Sequential()\n",
    "    model.add(Dense(units=hp.Int('units_1', min_value=50, max_value=200, step=50), input_shape=(40,)))\n",
    "    model.add(Activation(hp.Choice('activation_1', values=['relu', 'tanh', 'sigmoid'])))\n",
    "    model.add(Dropout(hp.Float('dropout_1', min_value=0.2, max_value=0.5, step=0.1)))\n",
    "\n",
    "    model.add(Dense(units=hp.Int('units_2', min_value=100, max_value=300, step=100)))\n",
    "    model.add(Activation(hp.Choice('activation_2', values=['relu', 'tanh', 'sigmoid'])))\n",
    "    model.add(Dropout(hp.Float('dropout_2', min_value=0.2, max_value=0.5, step=0.1)))\n",
    "\n",
    "    model.add(Dense(units=hp.Int('units_3', min_value=50, max_value=200, step=50)))\n",
    "    model.add(Activation(hp.Choice('activation_3', values=['relu', 'tanh', 'sigmoid'])))\n",
    "    model.add(Dropout(hp.Float('dropout_3', min_value=0.2, max_value=0.5, step=0.1)))\n",
    "\n",
    "    model.add(Dense(num_labels))\n",
    "    model.add(Activation('softmax'))\n",
    "\n",
    "    model.compile(optimizer=hp.Choice('optimizer', values=['adam', 'rmsprop', 'sgd']),\n",
    "                  loss='categorical_crossentropy',\n",
    "                  metrics=['accuracy'])\n",
    "    return model\n",
    "\n",
    "# Set up tuner\n",
    "tuner = RandomSearch(\n",
    "    build_model,\n",
    "    objective='val_accuracy',\n",
    "    max_trials=5,  # number of hyperparameter combinations to try\n",
    "    executions_per_trial=1,\n",
    "    directory='my_dir',\n",
    "    project_name='audio_classification')\n",
    "\n",
    "# Convert y_train and y_test to numpy arrays\n",
    "y_train = np.array(y_train)\n",
    "y_test = np.array(y_test)\n",
    "\n",
    "# Perform hyperparameter tuning with early stopping\n",
    "tuner.search(X_train, y_train, epochs=100, validation_data=(X_test, y_test), callbacks=[EarlyStopping(patience=3)])\n",
    "\n",
    "# Get the best hyperparameters\n",
    "best_hps = tuner.get_best_hyperparameters(num_trials=1)[0]\n",
    "print(\"Best hyperparameters: {best_hps}\")\n",
    "\n",
    "# Build the model with the best hyperparameters\n",
    "best_model = tuner.hypermodel.build(best_hps)\n",
    "\n",
    "# Train the model on the full dataset with early stopping\n",
    "best_model.fit(X_train, y_train, epochs=100, validation_data=(X_test, y_test), callbacks=[EarlyStopping(patience=3)])\n"
   ]
  },
  {
   "cell_type": "code",
   "execution_count": 48,
   "id": "found-outside",
   "metadata": {
    "scrolled": false
   },
   "outputs": [
    {
     "name": "stdout",
     "output_type": "stream",
     "text": [
      "Best Hyperparameters:\n",
      "{'units_1': 200, 'activation_1': 'tanh', 'dropout_1': 0.4, 'units_2': 200, 'activation_2': 'sigmoid', 'dropout_2': 0.2, 'units_3': 150, 'activation_3': 'tanh', 'dropout_3': 0.4, 'optimizer': 'rmsprop'}\n"
     ]
    }
   ],
   "source": [
    "best_hps = tuner.get_best_hyperparameters(num_trials=1)[0]\n",
    "\n",
    "# Print the best hyperparameters\n",
    "print(\"Best Hyperparameters:\")\n",
    "print(best_hps.values)"
   ]
  },
  {
   "cell_type": "code",
   "execution_count": 58,
   "id": "described-anaheim",
   "metadata": {},
   "outputs": [
    {
     "name": "stdout",
     "output_type": "stream",
     "text": [
      "Epoch 1/100\n",
      "219/219 [==============================] - 0s 2ms/step - loss: 0.4471 - accuracy: 0.8518 - val_loss: 0.3900 - val_accuracy: 0.8729\n",
      "Epoch 2/100\n",
      "219/219 [==============================] - 0s 1ms/step - loss: 0.4408 - accuracy: 0.8547 - val_loss: 0.3886 - val_accuracy: 0.8746\n",
      "Epoch 3/100\n",
      "219/219 [==============================] - 0s 1ms/step - loss: 0.4285 - accuracy: 0.8621 - val_loss: 0.4070 - val_accuracy: 0.8666\n",
      "Epoch 4/100\n",
      "219/219 [==============================] - 0s 2ms/step - loss: 0.4273 - accuracy: 0.8628 - val_loss: 0.3826 - val_accuracy: 0.8724\n",
      "Epoch 5/100\n",
      "219/219 [==============================] - 0s 1ms/step - loss: 0.4310 - accuracy: 0.8578 - val_loss: 0.3859 - val_accuracy: 0.8821\n",
      "Epoch 6/100\n",
      "219/219 [==============================] - 0s 1ms/step - loss: 0.4260 - accuracy: 0.8651 - val_loss: 0.3911 - val_accuracy: 0.8752\n",
      "Epoch 7/100\n",
      "219/219 [==============================] - 0s 1ms/step - loss: 0.4257 - accuracy: 0.8560 - val_loss: 0.3870 - val_accuracy: 0.8718\n",
      "Epoch 8/100\n",
      "219/219 [==============================] - 0s 1ms/step - loss: 0.4265 - accuracy: 0.8577 - val_loss: 0.3857 - val_accuracy: 0.8712\n",
      "Epoch 9/100\n",
      "219/219 [==============================] - 0s 1ms/step - loss: 0.4302 - accuracy: 0.8581 - val_loss: 0.3855 - val_accuracy: 0.8746\n",
      "Epoch 10/100\n",
      "219/219 [==============================] - 0s 1ms/step - loss: 0.4200 - accuracy: 0.8603 - val_loss: 0.3901 - val_accuracy: 0.8741\n",
      "Epoch 11/100\n",
      "219/219 [==============================] - 0s 1ms/step - loss: 0.4150 - accuracy: 0.8659 - val_loss: 0.3740 - val_accuracy: 0.8781\n",
      "Epoch 12/100\n",
      "219/219 [==============================] - 0s 1ms/step - loss: 0.4124 - accuracy: 0.8628 - val_loss: 0.3874 - val_accuracy: 0.8718\n",
      "Epoch 13/100\n",
      "219/219 [==============================] - 0s 1ms/step - loss: 0.4090 - accuracy: 0.8676 - val_loss: 0.3796 - val_accuracy: 0.8878\n",
      "Epoch 14/100\n",
      "219/219 [==============================] - 0s 2ms/step - loss: 0.4072 - accuracy: 0.8690 - val_loss: 0.3992 - val_accuracy: 0.8695\n",
      "Epoch 15/100\n",
      "219/219 [==============================] - 0s 1ms/step - loss: 0.4238 - accuracy: 0.8581 - val_loss: 0.3758 - val_accuracy: 0.8832\n",
      "Epoch 16/100\n",
      "219/219 [==============================] - 0s 1ms/step - loss: 0.4102 - accuracy: 0.8676 - val_loss: 0.3945 - val_accuracy: 0.8752\n",
      "Epoch 17/100\n",
      "219/219 [==============================] - 0s 2ms/step - loss: 0.4083 - accuracy: 0.8627 - val_loss: 0.3753 - val_accuracy: 0.8815\n",
      "Epoch 18/100\n",
      "219/219 [==============================] - 0s 2ms/step - loss: 0.4112 - accuracy: 0.8669 - val_loss: 0.3975 - val_accuracy: 0.8769\n",
      "Epoch 19/100\n",
      "219/219 [==============================] - 0s 1ms/step - loss: 0.4087 - accuracy: 0.8686 - val_loss: 0.3659 - val_accuracy: 0.8792\n",
      "Epoch 20/100\n",
      "219/219 [==============================] - 0s 1ms/step - loss: 0.3927 - accuracy: 0.8691 - val_loss: 0.3653 - val_accuracy: 0.8804\n",
      "Epoch 21/100\n",
      "219/219 [==============================] - 0s 1ms/step - loss: 0.3930 - accuracy: 0.8703 - val_loss: 0.3722 - val_accuracy: 0.8838\n",
      "Epoch 22/100\n",
      "219/219 [==============================] - 0s 1ms/step - loss: 0.4080 - accuracy: 0.8647 - val_loss: 0.3674 - val_accuracy: 0.8878\n",
      "Epoch 23/100\n",
      "219/219 [==============================] - 0s 1ms/step - loss: 0.3984 - accuracy: 0.8707 - val_loss: 0.3681 - val_accuracy: 0.8821\n",
      "Epoch 24/100\n",
      "219/219 [==============================] - 0s 1ms/step - loss: 0.3933 - accuracy: 0.8673 - val_loss: 0.3557 - val_accuracy: 0.8849\n",
      "Epoch 25/100\n",
      "219/219 [==============================] - 0s 1ms/step - loss: 0.3818 - accuracy: 0.8756 - val_loss: 0.3664 - val_accuracy: 0.8849\n",
      "Epoch 26/100\n",
      "219/219 [==============================] - 0s 2ms/step - loss: 0.3922 - accuracy: 0.8674 - val_loss: 0.3747 - val_accuracy: 0.8804\n",
      "Epoch 27/100\n",
      "219/219 [==============================] - 0s 1ms/step - loss: 0.3908 - accuracy: 0.8739 - val_loss: 0.3862 - val_accuracy: 0.8804\n",
      "Epoch 28/100\n",
      "219/219 [==============================] - 0s 1ms/step - loss: 0.3896 - accuracy: 0.8743 - val_loss: 0.3525 - val_accuracy: 0.8958\n",
      "Epoch 29/100\n",
      "219/219 [==============================] - 0s 1ms/step - loss: 0.3740 - accuracy: 0.8780 - val_loss: 0.3710 - val_accuracy: 0.8867\n",
      "Epoch 30/100\n",
      "219/219 [==============================] - 0s 1ms/step - loss: 0.3814 - accuracy: 0.8742 - val_loss: 0.3668 - val_accuracy: 0.8884\n",
      "Epoch 31/100\n",
      "219/219 [==============================] - 0s 1ms/step - loss: 0.3738 - accuracy: 0.8746 - val_loss: 0.3611 - val_accuracy: 0.8975\n",
      "Epoch 32/100\n",
      "219/219 [==============================] - 0s 1ms/step - loss: 0.3697 - accuracy: 0.8766 - val_loss: 0.3526 - val_accuracy: 0.8884\n",
      "Epoch 33/100\n",
      "219/219 [==============================] - 0s 2ms/step - loss: 0.3798 - accuracy: 0.8783 - val_loss: 0.3539 - val_accuracy: 0.8890\n",
      "Epoch 34/100\n",
      "219/219 [==============================] - 0s 1ms/step - loss: 0.3635 - accuracy: 0.8806 - val_loss: 0.3633 - val_accuracy: 0.8872\n",
      "Epoch 35/100\n",
      "219/219 [==============================] - 0s 2ms/step - loss: 0.3738 - accuracy: 0.8787 - val_loss: 0.3796 - val_accuracy: 0.8821\n",
      "Epoch 36/100\n",
      "219/219 [==============================] - 0s 2ms/step - loss: 0.3611 - accuracy: 0.8817 - val_loss: 0.3475 - val_accuracy: 0.8941\n",
      "Epoch 37/100\n",
      "219/219 [==============================] - 0s 2ms/step - loss: 0.3636 - accuracy: 0.8838 - val_loss: 0.3684 - val_accuracy: 0.8861\n",
      "Epoch 38/100\n",
      "219/219 [==============================] - 0s 2ms/step - loss: 0.3686 - accuracy: 0.8780 - val_loss: 0.3618 - val_accuracy: 0.8918\n",
      "Epoch 39/100\n",
      "219/219 [==============================] - 0s 2ms/step - loss: 0.3595 - accuracy: 0.8816 - val_loss: 0.3438 - val_accuracy: 0.8975\n",
      "Epoch 40/100\n",
      "219/219 [==============================] - 0s 1ms/step - loss: 0.3786 - accuracy: 0.8766 - val_loss: 0.3572 - val_accuracy: 0.8878\n",
      "Epoch 41/100\n",
      "219/219 [==============================] - 0s 1ms/step - loss: 0.3528 - accuracy: 0.8845 - val_loss: 0.3575 - val_accuracy: 0.8912\n",
      "Epoch 42/100\n",
      "219/219 [==============================] - 0s 2ms/step - loss: 0.3733 - accuracy: 0.8750 - val_loss: 0.3502 - val_accuracy: 0.8878\n",
      "Epoch 43/100\n",
      "219/219 [==============================] - 0s 1ms/step - loss: 0.3511 - accuracy: 0.8860 - val_loss: 0.3716 - val_accuracy: 0.8872\n",
      "Epoch 44/100\n",
      "219/219 [==============================] - 0s 1ms/step - loss: 0.3600 - accuracy: 0.8773 - val_loss: 0.3550 - val_accuracy: 0.8924\n",
      "Epoch 45/100\n",
      "219/219 [==============================] - 0s 1ms/step - loss: 0.3527 - accuracy: 0.8888 - val_loss: 0.3546 - val_accuracy: 0.8912\n",
      "Epoch 46/100\n",
      "219/219 [==============================] - 0s 1ms/step - loss: 0.3555 - accuracy: 0.8849 - val_loss: 0.3495 - val_accuracy: 0.8958\n",
      "Epoch 47/100\n",
      "219/219 [==============================] - 0s 1ms/step - loss: 0.3410 - accuracy: 0.8888 - val_loss: 0.3469 - val_accuracy: 0.8952\n",
      "Epoch 48/100\n",
      "219/219 [==============================] - 0s 1ms/step - loss: 0.3460 - accuracy: 0.8845 - val_loss: 0.3510 - val_accuracy: 0.8958\n",
      "Epoch 49/100\n",
      "219/219 [==============================] - 0s 1ms/step - loss: 0.3489 - accuracy: 0.8843 - val_loss: 0.3445 - val_accuracy: 0.8964\n",
      "Epoch 50/100\n",
      "219/219 [==============================] - 0s 1ms/step - loss: 0.3420 - accuracy: 0.8886 - val_loss: 0.3384 - val_accuracy: 0.8918\n",
      "Epoch 51/100\n",
      "219/219 [==============================] - 0s 1ms/step - loss: 0.3609 - accuracy: 0.8822 - val_loss: 0.3592 - val_accuracy: 0.8952\n",
      "Epoch 52/100\n",
      "219/219 [==============================] - 0s 1ms/step - loss: 0.3323 - accuracy: 0.8901 - val_loss: 0.3350 - val_accuracy: 0.8970\n",
      "Epoch 53/100\n",
      "219/219 [==============================] - 0s 2ms/step - loss: 0.3437 - accuracy: 0.8865 - val_loss: 0.3482 - val_accuracy: 0.8993\n",
      "Epoch 54/100\n",
      "219/219 [==============================] - 0s 2ms/step - loss: 0.3493 - accuracy: 0.8876 - val_loss: 0.3565 - val_accuracy: 0.8849\n",
      "Epoch 55/100\n",
      "219/219 [==============================] - 0s 2ms/step - loss: 0.3454 - accuracy: 0.8895 - val_loss: 0.3491 - val_accuracy: 0.8872\n",
      "Epoch 56/100\n",
      "219/219 [==============================] - 0s 1ms/step - loss: 0.3495 - accuracy: 0.8856 - val_loss: 0.3331 - val_accuracy: 0.8918\n",
      "Epoch 57/100\n",
      "219/219 [==============================] - 0s 1ms/step - loss: 0.3491 - accuracy: 0.8856 - val_loss: 0.3326 - val_accuracy: 0.8890\n"
     ]
    },
    {
     "name": "stdout",
     "output_type": "stream",
     "text": [
      "Epoch 58/100\n",
      "219/219 [==============================] - 0s 1ms/step - loss: 0.3471 - accuracy: 0.8893 - val_loss: 0.3670 - val_accuracy: 0.8844\n",
      "Epoch 59/100\n",
      "219/219 [==============================] - 0s 1ms/step - loss: 0.3488 - accuracy: 0.8876 - val_loss: 0.3441 - val_accuracy: 0.8924\n",
      "Epoch 60/100\n",
      "219/219 [==============================] - 0s 1ms/step - loss: 0.3386 - accuracy: 0.8842 - val_loss: 0.3433 - val_accuracy: 0.8993\n",
      "Epoch 61/100\n",
      "219/219 [==============================] - 0s 1ms/step - loss: 0.3382 - accuracy: 0.8895 - val_loss: 0.3484 - val_accuracy: 0.8930\n",
      "Epoch 62/100\n",
      "219/219 [==============================] - 0s 1ms/step - loss: 0.3378 - accuracy: 0.8892 - val_loss: 0.3426 - val_accuracy: 0.8930\n",
      "Epoch 63/100\n",
      "219/219 [==============================] - 0s 1ms/step - loss: 0.3432 - accuracy: 0.8863 - val_loss: 0.3440 - val_accuracy: 0.8970\n",
      "Epoch 64/100\n",
      "219/219 [==============================] - 0s 1ms/step - loss: 0.3235 - accuracy: 0.8922 - val_loss: 0.3387 - val_accuracy: 0.8975\n",
      "Epoch 65/100\n",
      "219/219 [==============================] - 0s 1ms/step - loss: 0.3438 - accuracy: 0.8869 - val_loss: 0.3422 - val_accuracy: 0.8941\n",
      "Epoch 66/100\n",
      "219/219 [==============================] - 0s 1ms/step - loss: 0.3617 - accuracy: 0.8802 - val_loss: 0.3326 - val_accuracy: 0.8924\n",
      "Epoch 67/100\n",
      "219/219 [==============================] - 0s 1ms/step - loss: 0.3310 - accuracy: 0.8895 - val_loss: 0.3299 - val_accuracy: 0.9004\n",
      "Epoch 68/100\n",
      "219/219 [==============================] - 0s 1ms/step - loss: 0.3503 - accuracy: 0.8863 - val_loss: 0.3445 - val_accuracy: 0.8981\n",
      "Epoch 69/100\n",
      "219/219 [==============================] - 0s 1ms/step - loss: 0.3277 - accuracy: 0.8943 - val_loss: 0.3246 - val_accuracy: 0.8958\n",
      "Epoch 70/100\n",
      "219/219 [==============================] - 0s 1ms/step - loss: 0.3224 - accuracy: 0.8898 - val_loss: 0.3121 - val_accuracy: 0.9050\n",
      "Epoch 71/100\n",
      "219/219 [==============================] - 0s 1ms/step - loss: 0.3260 - accuracy: 0.8945 - val_loss: 0.3599 - val_accuracy: 0.8861\n",
      "Epoch 72/100\n",
      "219/219 [==============================] - 0s 1ms/step - loss: 0.3354 - accuracy: 0.8916 - val_loss: 0.3601 - val_accuracy: 0.8878\n",
      "Epoch 73/100\n",
      "219/219 [==============================] - 0s 1ms/step - loss: 0.3304 - accuracy: 0.8860 - val_loss: 0.3200 - val_accuracy: 0.9078\n",
      "Epoch 74/100\n",
      "219/219 [==============================] - 0s 1ms/step - loss: 0.3362 - accuracy: 0.8905 - val_loss: 0.3431 - val_accuracy: 0.8964\n",
      "Epoch 75/100\n",
      "219/219 [==============================] - 0s 1ms/step - loss: 0.3188 - accuracy: 0.8931 - val_loss: 0.3324 - val_accuracy: 0.9027\n",
      "Epoch 76/100\n",
      "219/219 [==============================] - 0s 2ms/step - loss: 0.3249 - accuracy: 0.8935 - val_loss: 0.3376 - val_accuracy: 0.8987\n",
      "Epoch 77/100\n",
      "219/219 [==============================] - 0s 1ms/step - loss: 0.3208 - accuracy: 0.8952 - val_loss: 0.3252 - val_accuracy: 0.8998\n",
      "Epoch 78/100\n",
      "219/219 [==============================] - 0s 1ms/step - loss: 0.3196 - accuracy: 0.8925 - val_loss: 0.3350 - val_accuracy: 0.8975\n",
      "Epoch 79/100\n",
      "219/219 [==============================] - 0s 1ms/step - loss: 0.3357 - accuracy: 0.8883 - val_loss: 0.3146 - val_accuracy: 0.9010\n",
      "Epoch 80/100\n",
      "219/219 [==============================] - 0s 1ms/step - loss: 0.3203 - accuracy: 0.8971 - val_loss: 0.3400 - val_accuracy: 0.8975\n",
      "Epoch 81/100\n",
      "219/219 [==============================] - 0s 1ms/step - loss: 0.3211 - accuracy: 0.8952 - val_loss: 0.3311 - val_accuracy: 0.8952\n",
      "Epoch 82/100\n",
      "219/219 [==============================] - 0s 1ms/step - loss: 0.3181 - accuracy: 0.8921 - val_loss: 0.3240 - val_accuracy: 0.9033\n",
      "Epoch 83/100\n",
      "219/219 [==============================] - 0s 1ms/step - loss: 0.3285 - accuracy: 0.8906 - val_loss: 0.3244 - val_accuracy: 0.9033\n",
      "Epoch 84/100\n",
      "219/219 [==============================] - 0s 2ms/step - loss: 0.3238 - accuracy: 0.8949 - val_loss: 0.3295 - val_accuracy: 0.9027\n",
      "Epoch 85/100\n",
      "219/219 [==============================] - 0s 1ms/step - loss: 0.3186 - accuracy: 0.8925 - val_loss: 0.3314 - val_accuracy: 0.8998\n",
      "Epoch 86/100\n",
      "219/219 [==============================] - 0s 1ms/step - loss: 0.3318 - accuracy: 0.8882 - val_loss: 0.3056 - val_accuracy: 0.9113\n",
      "Epoch 87/100\n",
      "219/219 [==============================] - 0s 1ms/step - loss: 0.3093 - accuracy: 0.8982 - val_loss: 0.3276 - val_accuracy: 0.9010\n",
      "Epoch 88/100\n",
      "219/219 [==============================] - 0s 1ms/step - loss: 0.3227 - accuracy: 0.8945 - val_loss: 0.3280 - val_accuracy: 0.9027\n",
      "Epoch 89/100\n",
      "219/219 [==============================] - 0s 1ms/step - loss: 0.3336 - accuracy: 0.8913 - val_loss: 0.3341 - val_accuracy: 0.8981\n",
      "Epoch 90/100\n",
      "219/219 [==============================] - 0s 1ms/step - loss: 0.3216 - accuracy: 0.8942 - val_loss: 0.3213 - val_accuracy: 0.9004\n",
      "Epoch 91/100\n",
      "219/219 [==============================] - 0s 2ms/step - loss: 0.3136 - accuracy: 0.8992 - val_loss: 0.3252 - val_accuracy: 0.9027\n",
      "Epoch 92/100\n",
      "219/219 [==============================] - 0s 1ms/step - loss: 0.3072 - accuracy: 0.8966 - val_loss: 0.3148 - val_accuracy: 0.9084\n",
      "Epoch 93/100\n",
      "219/219 [==============================] - 0s 2ms/step - loss: 0.3029 - accuracy: 0.9018 - val_loss: 0.3223 - val_accuracy: 0.9033\n",
      "Epoch 94/100\n",
      "219/219 [==============================] - 0s 1ms/step - loss: 0.3236 - accuracy: 0.8948 - val_loss: 0.3242 - val_accuracy: 0.9033\n",
      "Epoch 95/100\n",
      "219/219 [==============================] - 0s 1ms/step - loss: 0.3126 - accuracy: 0.8941 - val_loss: 0.3388 - val_accuracy: 0.8987\n",
      "Epoch 96/100\n",
      "219/219 [==============================] - 0s 2ms/step - loss: 0.3066 - accuracy: 0.9012 - val_loss: 0.3442 - val_accuracy: 0.9021\n",
      "Epoch 97/100\n",
      "219/219 [==============================] - 0s 1ms/step - loss: 0.3212 - accuracy: 0.8981 - val_loss: 0.3213 - val_accuracy: 0.9010\n",
      "Epoch 98/100\n",
      "219/219 [==============================] - 0s 1ms/step - loss: 0.3000 - accuracy: 0.9019 - val_loss: 0.3249 - val_accuracy: 0.9090\n",
      "Epoch 99/100\n",
      "219/219 [==============================] - 0s 1ms/step - loss: 0.3101 - accuracy: 0.9008 - val_loss: 0.3354 - val_accuracy: 0.8998\n",
      "Epoch 100/100\n",
      "219/219 [==============================] - 0s 1ms/step - loss: 0.3123 - accuracy: 0.9002 - val_loss: 0.3167 - val_accuracy: 0.9084\n"
     ]
    },
    {
     "data": {
      "image/png": "[encoded data removed]",
      "text/plain": [
       "<Figure size 640x480 with 1 Axes>"
      ]
     },
     "metadata": {},
     "output_type": "display_data"
    },
    {
     "data": {
      "image/png": "[encoded data removed]",
      "text/plain": [
       "<Figure size 640x480 with 1 Axes>"
      ]
     },
     "metadata": {},
     "output_type": "display_data"
    }
   ],
   "source": [
    "history = best_model.fit(X_train, y_train, epochs=100, validation_data=(X_test, y_test))\n",
    "\n",
    "\n",
    "\n",
    "plt.plot(history.history['loss'], label='Training Loss')\n",
    "plt.plot(history.history['val_loss'], label='Validation Loss')\n",
    "plt.xlabel('Epochs')\n",
    "plt.ylabel('Loss')\n",
    "plt.legend()\n",
    "plt.show()\n",
    "\n",
    "# Plot training and validation accuracy\n",
    "plt.plot(history.history['accuracy'], label='Training Accuracy')\n",
    "plt.plot(history.history['val_accuracy'], label='Validation Accuracy')\n",
    "plt.xlabel('Epochs')\n",
    "plt.ylabel('Accuracy')\n",
    "plt.legend()\n",
    "plt.show()"
   ]
  },
  {
   "cell_type": "code",
   "execution_count": null,
   "id": "radical-finding",
   "metadata": {},
   "outputs": [],
   "source": []
  },
  {
   "cell_type": "code",
   "execution_count": null,
   "id": "alpha-adapter",
   "metadata": {},
   "outputs": [],
   "source": []
  },
  {
   "cell_type": "code",
   "execution_count": 59,
   "id": "virgin-butter",
   "metadata": {
    "scrolled": true
   },
   "outputs": [
    {
     "name": "stdout",
     "output_type": "stream",
     "text": [
      "[0.3167053461074829, 0.9084144234657288]\n"
     ]
    }
   ],
   "source": [
    "test_accuracy=best_model.evaluate(X_test,y_test,verbose=0)\n",
    "print(test_accuracy)"
   ]
  },
  {
   "cell_type": "markdown",
   "id": "advanced-booth",
   "metadata": {},
   "source": [
    "### Testing Some Test Audio Data\n",
    "\n",
    "Steps\n",
    "- Preprocess the new audio data\n",
    "- predict the classes\n",
    "- Invere transform your Predicted Label"
   ]
  },
  {
   "cell_type": "code",
   "execution_count": 61,
   "id": "chubby-newsletter",
   "metadata": {
    "scrolled": true
   },
   "outputs": [
    {
     "name": "stdout",
     "output_type": "stream",
     "text": [
      "[-11.338845    50.589233   -14.992685    16.671083   -25.329138\n",
      "   6.784687   -36.16954     -0.7057618  -31.532421    -2.5662675\n",
      " -22.442356    -1.8718861  -32.35088    -11.168748   -35.69838\n",
      "  -3.9627578  -19.775549     1.4320754  -23.02296     -2.0574632\n",
      " -14.900823     2.5987754  -14.6283455    4.0907564  -11.838689\n",
      "   3.1228497   -6.976018    -1.2451633   -4.3162646   -1.1654692\n",
      "  -2.5880518   -0.3249269   -7.196415     2.557967    -8.433434\n",
      "   4.270383    -5.0151606    0.57794625  -0.8818482    2.9407227 ]\n",
      "[[-11.338845    50.589233   -14.992685    16.671083   -25.329138\n",
      "    6.784687   -36.16954     -0.7057618  -31.532421    -2.5662675\n",
      "  -22.442356    -1.8718861  -32.35088    -11.168748   -35.69838\n",
      "   -3.9627578  -19.775549     1.4320754  -23.02296     -2.0574632\n",
      "  -14.900823     2.5987754  -14.6283455    4.0907564  -11.838689\n",
      "    3.1228497   -6.976018    -1.2451633   -4.3162646   -1.1654692\n",
      "   -2.5880518   -0.3249269   -7.196415     2.557967    -8.433434\n",
      "    4.270383    -5.0151606    0.57794625  -0.8818482    2.9407227 ]]\n",
      "(1, 40)\n",
      "1/1 [==============================] - 0s 15ms/step\n",
      "[7]\n"
     ]
    },
    {
     "data": {
      "text/plain": [
       "array(['jackhammer'], dtype='<U16')"
      ]
     },
     "execution_count": 61,
     "metadata": {},
     "output_type": "execute_result"
    }
   ],
   "source": [
    "filename=\"/Users/rishiraj/Deep Learning/Projects/Audio Classificaiton/UrbanSound8K/audio/fold7/14772-7-2-0.wav\"\n",
    "audio, sample_rate = librosa.load(filename, res_type='kaiser_fast') \n",
    "mfccs_features = librosa.feature.mfcc(y=audio, sr=sample_rate, n_mfcc=40)\n",
    "mfccs_scaled_features = np.mean(mfccs_features.T,axis=0)\n",
    "\n",
    "print(mfccs_scaled_features)\n",
    "mfccs_scaled_features=mfccs_scaled_features.reshape(1,-1)\n",
    "print(mfccs_scaled_features)\n",
    "print(mfccs_scaled_features.shape)\n",
    "predictions = np.argmax(best_model.predict(mfccs_scaled_features),axis=1)\n",
    "print(predictions)\n",
    "prediction_class = labelencoder.inverse_transform(predictions) \n",
    "prediction_class"
   ]
  },
  {
   "cell_type": "code",
   "execution_count": null,
   "id": "inclusive-theorem",
   "metadata": {},
   "outputs": [],
   "source": []
  }
 ],
 "metadata": {
  "kernelspec": {
   "display_name": "Python 3 (ipykernel)",
   "language": "python",
   "name": "python3"
  },
  "language_info": {
   "codemirror_mode": {
    "name": "ipython",
    "version": 3
   },
   "file_extension": ".py",
   "mimetype": "text/x-python",
   "name": "python",
   "nbconvert_exporter": "python",
   "pygments_lexer": "ipython3",
   "version": "3.11.5"
  }
 },
 "nbformat": 4,
 "nbformat_minor": 5
}
